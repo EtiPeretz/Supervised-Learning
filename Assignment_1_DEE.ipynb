{
  "nbformat": 4,
  "nbformat_minor": 0,
  "metadata": {
    "colab": {
      "name": "Assignment 1_DEE",
      "provenance": [],
      "collapsed_sections": [],
      "include_colab_link": true
    },
    "kernelspec": {
      "display_name": "Python 3",
      "name": "python3"
    }
  },
  "cells": [
    {
      "cell_type": "markdown",
      "metadata": {
        "id": "view-in-github",
        "colab_type": "text"
      },
      "source": [
        "<a href=\"https://colab.research.google.com/github/EtiPeretz/Supervised-Learning/blob/main/Assignment_1_DEE.ipynb\" target=\"_parent\"><img src=\"https://colab.research.google.com/assets/colab-badge.svg\" alt=\"Open In Colab\"/></a>"
      ]
    },
    {
      "cell_type": "code",
      "metadata": {
        "id": "stYit-uGbayX"
      },
      "source": [
        "import pandas as pd\n",
        "import matplotlib.pyplot as plt\n",
        "from sklearn.model_selection import train_test_split\n",
        "from sklearn.linear_model import LogisticRegression\n",
        "from sklearn.metrics import confusion_matrix"
      ],
      "execution_count": null,
      "outputs": []
    },
    {
      "cell_type": "markdown",
      "metadata": {
        "id": "AweBS3ty84vI"
      },
      "source": [
        "# Section 1: Data Science"
      ]
    },
    {
      "cell_type": "markdown",
      "metadata": {
        "id": "ztp3zKBmo7yc"
      },
      "source": [
        "Load the flights training data into 'data'."
      ]
    },
    {
      "cell_type": "code",
      "metadata": {
        "colab": {
          "base_uri": "https://localhost:8080/"
        },
        "id": "jlzgpkMZbuzc",
        "outputId": "d7c55607-6ade-4d55-f776-9dfe81c7d0bb"
      },
      "source": [
        "!git clone https://github.com/kfirbar/course-ml-data\n",
        "\n",
        "data = pd.read_csv('/content/course-ml-data/flight_delays_train.csv')\n"
      ],
      "execution_count": null,
      "outputs": [
        {
          "name": "stdout",
          "output_type": "stream",
          "text": [
            "fatal: destination path 'course-ml-data' already exists and is not an empty directory.\n"
          ]
        }
      ]
    },
    {
      "cell_type": "markdown",
      "metadata": {
        "id": "sXLfqmt96XvU"
      },
      "source": [
        "How many flights got delayed at Charlotte?"
      ]
    },
    {
      "cell_type": "code",
      "metadata": {
        "colab": {
          "base_uri": "https://localhost:8080/"
        },
        "id": "DXLfEg6TkgKS",
        "outputId": "8e86ab97-edb0-4810-9374-9dd983d63285"
      },
      "source": [
        "# TODO:\n",
        "# TODO: \n",
        "CLT_flights = data[data['Origin'] == \"CLT\"]\n",
        "CLT_flights\n",
        "\n",
        "#CLT_flights[CLT_flights['dep_delayed_15min'] == \"Y\"].head()\n",
        "#CLT_flights['dep_delayed_15min'].value_counts()\n",
        "\n",
        "print(CLT_flights['dep_delayed_15min'].value_counts().loc['Y'])"
      ],
      "execution_count": null,
      "outputs": [
        {
          "name": "stdout",
          "output_type": "stream",
          "text": [
            "288\n"
          ]
        }
      ]
    },
    {
      "cell_type": "markdown",
      "metadata": {
        "id": "KOjCmoaQ6bTF"
      },
      "source": [
        "Show the number of departures per hour-of-day."
      ]
    },
    {
      "cell_type": "code",
      "metadata": {
        "colab": {
          "base_uri": "https://localhost:8080/"
        },
        "id": "nggBQbyYsaKH",
        "outputId": "48f6cda1-3d9f-4fd0-d0b0-30839c2d8c9b"
      },
      "source": [
        "# TODO: \n",
        "\n",
        "data['DepHour'] = data[\"DepTime\"]% 2400 \n",
        "data['DepHour'] = data[\"DepHour\"] // 100 \n",
        "data.groupby('DepHour').DepTime.count()\n"
      ],
      "execution_count": null,
      "outputs": [
        {
          "data": {
            "text/plain": [
              "DepHour\n",
              "0      331\n",
              "1       82\n",
              "2       27\n",
              "3        8\n",
              "4       38\n",
              "5     1636\n",
              "6     6315\n",
              "7     6329\n",
              "8     6620\n",
              "9     6409\n",
              "10    6363\n",
              "11    6340\n",
              "12    6363\n",
              "13    6178\n",
              "14    6006\n",
              "15    6170\n",
              "16    6112\n",
              "17    6562\n",
              "18    6110\n",
              "19    5500\n",
              "20    4430\n",
              "21    3505\n",
              "22    1787\n",
              "23     779\n",
              "Name: DepTime, dtype: int64"
            ]
          },
          "execution_count": 35,
          "metadata": {
            "tags": []
          },
          "output_type": "execute_result"
        }
      ]
    },
    {
      "cell_type": "markdown",
      "metadata": {
        "id": "JdPU6SQ16gYd"
      },
      "source": [
        "Plot number of departures (Y axis) per hour-of-day (X axis)."
      ]
    },
    {
      "cell_type": "code",
      "metadata": {
        "colab": {
          "base_uri": "https://localhost:8080/",
          "height": 296
        },
        "id": "jtI5fHZNugSX",
        "outputId": "f2b436c2-2bfa-4942-86db-aa4ab7031098"
      },
      "source": [
        "# TODO: \n",
        "data.groupby('DepHour').DepTime.count().plot(xlabel = 'DepHour', ylabel='Number of Flights')\n"
      ],
      "execution_count": null,
      "outputs": [
        {
          "data": {
            "text/plain": [
              "<matplotlib.axes._subplots.AxesSubplot at 0x7f9f9406e510>"
            ]
          },
          "execution_count": 36,
          "metadata": {
            "tags": []
          },
          "output_type": "execute_result"
        },
        {
          "data": {
            "image/png": "[encoded data removed]",
            "text/plain": [
              "<Figure size 432x288 with 1 Axes>"
            ]
          },
          "metadata": {
            "tags": []
          },
          "output_type": "display_data"
        }
      ]
    },
    {
      "cell_type": "markdown",
      "metadata": {
        "id": "IBxmF7LA6i-3"
      },
      "source": [
        "Plot the average number of delays per hour-of-day."
      ]
    },
    {
      "cell_type": "code",
      "metadata": {
        "colab": {
          "base_uri": "https://localhost:8080/",
          "height": 279
        },
        "id": "RlowAJ7HodN8",
        "outputId": "82ae0128-8ff5-4831-9533-9b83cd1a0ee0"
      },
      "source": [
        "# TODO: \n",
        "averages = []\n",
        "dep_times = data.groupby(\"DepHour\")\n",
        "for name , group in dep_times:\n",
        "  delayed = group[group['dep_delayed_15min']== 'Y'].size\n",
        "  sum_days = group.groupby(['Month', 'DayofMonth', 'DayOfWeek']).size()\n",
        "  averages.append(delayed / sum_days.size)\n",
        "plt.plot(averages)\n",
        "plt.xlabel('Hour Of Day')\n",
        "plt.ylabel('Average Amount of Delays')\n",
        "plt.show()\n",
        "\n"
      ],
      "execution_count": null,
      "outputs": [
        {
          "data": {
            "image/png": "[encoded data removed]",
            "text/plain": [
              "<Figure size 432x288 with 1 Axes>"
            ]
          },
          "metadata": {
            "tags": []
          },
          "output_type": "display_data"
        }
      ]
    },
    {
      "cell_type": "markdown",
      "metadata": {
        "id": "0c6dttfv6l1W"
      },
      "source": [
        "Find the worse pair of origin and carrier (max number of delays)"
      ]
    },
    {
      "cell_type": "code",
      "metadata": {
        "colab": {
          "base_uri": "https://localhost:8080/"
        },
        "id": "y-JEg6gk0sKB",
        "outputId": "088df144-81f5-40d0-a026-9ddaf424c36b"
      },
      "source": [
        "# TODO: \n",
        "\n",
        "# You may want to use 'idxmax' (like argmax, returning the row with max value of specific column)\n",
        "worst_pair_data = data.groupby(['Origin', 'UniqueCarrier']).dep_delayed_15min.count()\n",
        "worst_pair_data.idxmax()\n"
      ],
      "execution_count": null,
      "outputs": [
        {
          "data": {
            "text/plain": [
              "('ATL', 'DL')"
            ]
          },
          "execution_count": 25,
          "metadata": {
            "tags": []
          },
          "output_type": "execute_result"
        }
      ]
    },
    {
      "cell_type": "markdown",
      "metadata": {
        "id": "Jou6tsNs89z6"
      },
      "source": [
        "# Section 2: Supervised Learning\n",
        "Here, you are requested to use all features to predict the response parameter dep_delayed_15min.\n",
        "\n",
        "* Note: some of those things are covered in notebooks 1-4."
      ]
    },
    {
      "cell_type": "code",
      "metadata": {
        "id": "tYcziaNRvXP9"
      },
      "source": [
        "import copy\n",
        "from sklearn.model_selection import train_test_split\n",
        "from sklearn.metrics import confusion_matrix\n",
        "import pandas as pd\n",
        "from sklearn.linear_model import LogisticRegression\n",
        "from sklearn.metrics import precision_score\n",
        "from sklearn.metrics import recall_score\n",
        "from sklearn.metrics import f1_score\n",
        "from sklearn.metrics import accuracy_score\n",
        "from sklearn.naive_bayes import BernoulliNB\n",
        "from sklearn.neighbors import KNeighborsClassifier\n",
        "from sklearn.svm import LinearSVC\n"
      ],
      "execution_count": null,
      "outputs": []
    },
    {
      "cell_type": "code",
      "metadata": {
        "colab": {
          "base_uri": "https://localhost:8080/",
          "height": 146
        },
        "id": "vDS7H_7i64VW",
        "outputId": "c707c06f-2161-40c2-d29a-90e336a8c186"
      },
      "source": [
        "# filtering out the columns we don't need for one-hot-encoding --> 'Distance', 'DepTime'\n",
        "data = pd.read_csv('/content/course-ml-data/flight_delays_train.csv')\n",
        "X = copy.deepcopy(data)\n",
        "\n",
        "X['dep_delayed_15min'].replace({'Y': 1, 'N': 0}, inplace=True)\n",
        "X = X.dropna()\n",
        "\n",
        "# encoding the categorial features and concat everything with X\n",
        "X = pd.concat([X, pd.get_dummies(X['Month'], prefix='Month')], axis=1)\n",
        "X = pd.concat([X, pd.get_dummies(X['DayofMonth'], prefix='DayofMonth')], axis=1)\n",
        "X = pd.concat([X, pd.get_dummies(X['DayOfWeek'], prefix='DayOfWeek')], axis=1)\n",
        "X = pd.concat([X, pd.get_dummies(X['UniqueCarrier'], prefix='UniqueCarrier')], axis=1)\n",
        "X = pd.concat([X, pd.get_dummies(X['Origin'], prefix='Origin')], axis=1)\n",
        "X = pd.concat([X, pd.get_dummies(X['Dest'], prefix='Dest')], axis=1)\n",
        "\n",
        "# remove originals from X\n",
        "X = X.drop(columns=['Month', 'DayofMonth', 'DayOfWeek', 'UniqueCarrier', 'Origin', 'Dest'], axis=1)\n",
        "\n",
        "# checking NaNs\n",
        "# X.isnull().any(axis=1)\n",
        "# X.isnull().any(axis=0)\n",
        "# No NaNs in data\n",
        "\n",
        "X.head(1)\n",
        "\n"
      ],
      "execution_count": null,
      "outputs": [
        {
          "data": {
            "text/html": [
              "<div>\n",
              "<style scoped>\n",
              "    .dataframe tbody tr th:only-of-type {\n",
              "        vertical-align: middle;\n",
              "    }\n",
              "\n",
              "    .dataframe tbody tr th {\n",
              "        vertical-align: top;\n",
              "    }\n",
              "\n",
              "    .dataframe thead th {\n",
              "        text-align: right;\n",
              "    }\n",
              "</style>\n",
              "<table border=\"1\" class=\"dataframe\">\n",
              "  <thead>\n",
              "    <tr style=\"text-align: right;\">\n",
              "      <th></th>\n",
              "      <th>DepTime</th>\n",
              "      <th>Distance</th>\n",
              "      <th>dep_delayed_15min</th>\n",
              "      <th>Month_c-1</th>\n",
              "      <th>Month_c-10</th>\n",
              "      <th>Month_c-11</th>\n",
              "      <th>Month_c-12</th>\n",
              "      <th>Month_c-2</th>\n",
              "      <th>Month_c-3</th>\n",
              "      <th>Month_c-4</th>\n",
              "      <th>Month_c-5</th>\n",
              "      <th>Month_c-6</th>\n",
              "      <th>Month_c-7</th>\n",
              "      <th>Month_c-8</th>\n",
              "      <th>Month_c-9</th>\n",
              "      <th>DayofMonth_c-1</th>\n",
              "      <th>DayofMonth_c-10</th>\n",
              "      <th>DayofMonth_c-11</th>\n",
              "      <th>DayofMonth_c-12</th>\n",
              "      <th>DayofMonth_c-13</th>\n",
              "      <th>DayofMonth_c-14</th>\n",
              "      <th>DayofMonth_c-15</th>\n",
              "      <th>DayofMonth_c-16</th>\n",
              "      <th>DayofMonth_c-17</th>\n",
              "      <th>DayofMonth_c-18</th>\n",
              "      <th>DayofMonth_c-19</th>\n",
              "      <th>DayofMonth_c-2</th>\n",
              "      <th>DayofMonth_c-20</th>\n",
              "      <th>DayofMonth_c-21</th>\n",
              "      <th>DayofMonth_c-22</th>\n",
              "      <th>DayofMonth_c-23</th>\n",
              "      <th>DayofMonth_c-24</th>\n",
              "      <th>DayofMonth_c-25</th>\n",
              "      <th>DayofMonth_c-26</th>\n",
              "      <th>DayofMonth_c-27</th>\n",
              "      <th>DayofMonth_c-28</th>\n",
              "      <th>DayofMonth_c-29</th>\n",
              "      <th>DayofMonth_c-3</th>\n",
              "      <th>DayofMonth_c-30</th>\n",
              "      <th>DayofMonth_c-31</th>\n",
              "      <th>...</th>\n",
              "      <th>Dest_SJC</th>\n",
              "      <th>Dest_SJT</th>\n",
              "      <th>Dest_SJU</th>\n",
              "      <th>Dest_SLC</th>\n",
              "      <th>Dest_SMF</th>\n",
              "      <th>Dest_SMX</th>\n",
              "      <th>Dest_SNA</th>\n",
              "      <th>Dest_SOP</th>\n",
              "      <th>Dest_SPI</th>\n",
              "      <th>Dest_SPS</th>\n",
              "      <th>Dest_SRQ</th>\n",
              "      <th>Dest_STL</th>\n",
              "      <th>Dest_STT</th>\n",
              "      <th>Dest_STX</th>\n",
              "      <th>Dest_SUN</th>\n",
              "      <th>Dest_SWF</th>\n",
              "      <th>Dest_SYR</th>\n",
              "      <th>Dest_TEX</th>\n",
              "      <th>Dest_TLH</th>\n",
              "      <th>Dest_TOL</th>\n",
              "      <th>Dest_TPA</th>\n",
              "      <th>Dest_TRI</th>\n",
              "      <th>Dest_TTN</th>\n",
              "      <th>Dest_TUL</th>\n",
              "      <th>Dest_TUP</th>\n",
              "      <th>Dest_TUS</th>\n",
              "      <th>Dest_TVC</th>\n",
              "      <th>Dest_TWF</th>\n",
              "      <th>Dest_TXK</th>\n",
              "      <th>Dest_TYR</th>\n",
              "      <th>Dest_TYS</th>\n",
              "      <th>Dest_VCT</th>\n",
              "      <th>Dest_VIS</th>\n",
              "      <th>Dest_VLD</th>\n",
              "      <th>Dest_VPS</th>\n",
              "      <th>Dest_WRG</th>\n",
              "      <th>Dest_WYS</th>\n",
              "      <th>Dest_XNA</th>\n",
              "      <th>Dest_YAK</th>\n",
              "      <th>Dest_YUM</th>\n",
              "    </tr>\n",
              "  </thead>\n",
              "  <tbody>\n",
              "    <tr>\n",
              "      <th>0</th>\n",
              "      <td>1934</td>\n",
              "      <td>732</td>\n",
              "      <td>0</td>\n",
              "      <td>0</td>\n",
              "      <td>0</td>\n",
              "      <td>0</td>\n",
              "      <td>0</td>\n",
              "      <td>0</td>\n",
              "      <td>0</td>\n",
              "      <td>0</td>\n",
              "      <td>0</td>\n",
              "      <td>0</td>\n",
              "      <td>0</td>\n",
              "      <td>1</td>\n",
              "      <td>0</td>\n",
              "      <td>0</td>\n",
              "      <td>0</td>\n",
              "      <td>0</td>\n",
              "      <td>0</td>\n",
              "      <td>0</td>\n",
              "      <td>0</td>\n",
              "      <td>0</td>\n",
              "      <td>0</td>\n",
              "      <td>0</td>\n",
              "      <td>0</td>\n",
              "      <td>0</td>\n",
              "      <td>0</td>\n",
              "      <td>0</td>\n",
              "      <td>1</td>\n",
              "      <td>0</td>\n",
              "      <td>0</td>\n",
              "      <td>0</td>\n",
              "      <td>0</td>\n",
              "      <td>0</td>\n",
              "      <td>0</td>\n",
              "      <td>0</td>\n",
              "      <td>0</td>\n",
              "      <td>0</td>\n",
              "      <td>0</td>\n",
              "      <td>0</td>\n",
              "      <td>...</td>\n",
              "      <td>0</td>\n",
              "      <td>0</td>\n",
              "      <td>0</td>\n",
              "      <td>0</td>\n",
              "      <td>0</td>\n",
              "      <td>0</td>\n",
              "      <td>0</td>\n",
              "      <td>0</td>\n",
              "      <td>0</td>\n",
              "      <td>0</td>\n",
              "      <td>0</td>\n",
              "      <td>0</td>\n",
              "      <td>0</td>\n",
              "      <td>0</td>\n",
              "      <td>0</td>\n",
              "      <td>0</td>\n",
              "      <td>0</td>\n",
              "      <td>0</td>\n",
              "      <td>0</td>\n",
              "      <td>0</td>\n",
              "      <td>0</td>\n",
              "      <td>0</td>\n",
              "      <td>0</td>\n",
              "      <td>0</td>\n",
              "      <td>0</td>\n",
              "      <td>0</td>\n",
              "      <td>0</td>\n",
              "      <td>0</td>\n",
              "      <td>0</td>\n",
              "      <td>0</td>\n",
              "      <td>0</td>\n",
              "      <td>0</td>\n",
              "      <td>0</td>\n",
              "      <td>0</td>\n",
              "      <td>0</td>\n",
              "      <td>0</td>\n",
              "      <td>0</td>\n",
              "      <td>0</td>\n",
              "      <td>0</td>\n",
              "      <td>0</td>\n",
              "    </tr>\n",
              "  </tbody>\n",
              "</table>\n",
              "<p>1 rows × 653 columns</p>\n",
              "</div>"
            ],
            "text/plain": [
              "   DepTime  Distance  dep_delayed_15min  ...  Dest_XNA  Dest_YAK  Dest_YUM\n",
              "0     1934       732                  0  ...         0         0         0\n",
              "\n",
              "[1 rows x 653 columns]"
            ]
          },
          "execution_count": 39,
          "metadata": {
            "tags": []
          },
          "output_type": "execute_result"
        }
      ]
    },
    {
      "cell_type": "code",
      "metadata": {
        "id": "9FBdpRLSYGzW"
      },
      "source": [
        "# Splitting the data to train and test using sklearn --> test_size=0.3, random_state=1 \n",
        "\n",
        "y = X['dep_delayed_15min']\n",
        "X = X.drop(columns='dep_delayed_15min')\n",
        "\n",
        "X_train, X_test, y_train, y_test = train_test_split(X, y, test_size=0.3, random_state=1)\n"
      ],
      "execution_count": null,
      "outputs": []
    },
    {
      "cell_type": "code",
      "metadata": {
        "colab": {
          "base_uri": "https://localhost:8080/"
        },
        "id": "50iSOj45dWrI",
        "outputId": "5b692b27-ea86-469d-81d6-882f7372de0a"
      },
      "source": [
        "# Fitting a LogisticRegression classifier to the training set\n",
        "lr = LogisticRegression(max_iter=600)\n",
        "lr.fit(X_train, y_train)"
      ],
      "execution_count": null,
      "outputs": [
        {
          "data": {
            "text/plain": [
              "LogisticRegression(C=1.0, class_weight=None, dual=False, fit_intercept=True,\n",
              "                   intercept_scaling=1, l1_ratio=None, max_iter=600,\n",
              "                   multi_class='auto', n_jobs=None, penalty='l2',\n",
              "                   random_state=None, solver='lbfgs', tol=0.0001, verbose=0,\n",
              "                   warm_start=False)"
            ]
          },
          "execution_count": 41,
          "metadata": {
            "tags": []
          },
          "output_type": "execute_result"
        }
      ]
    },
    {
      "cell_type": "code",
      "metadata": {
        "colab": {
          "base_uri": "https://localhost:8080/"
        },
        "id": "QuamnM9MdoDl",
        "outputId": "ec808a6f-b0a5-4db3-ea97-e1a22ec8490a"
      },
      "source": [
        "# Printing confusion matrix over the testing set\n",
        "y_hat_test = lr.predict(X_test)\n",
        "confusion_matrix(y_test, y_hat_test)"
      ],
      "execution_count": null,
      "outputs": [
        {
          "data": {
            "text/plain": [
              "array([[24149,   265],\n",
              "       [ 5261,   325]])"
            ]
          },
          "execution_count": 42,
          "metadata": {
            "tags": []
          },
          "output_type": "execute_result"
        }
      ]
    },
    {
      "cell_type": "code",
      "metadata": {
        "colab": {
          "base_uri": "https://localhost:8080/"
        },
        "id": "fJlP7qADjYgd",
        "outputId": "c2745645-1784-45e3-d51b-3d49f6f37fec"
      },
      "source": [
        "# Calculating Precision, Recall and F score\n",
        "precision = precision_score(y_test, y_hat_test, average='macro')\n",
        "recall = recall_score(y_test, y_hat_test, average='macro')\n",
        "f1 = f1_score(y_test, y_hat_test, average='macro')\n",
        "accuracy = accuracy_score(y_test, y_hat_test)\n",
        "print(f'LogisticRegression -> Precision Score: ' + str(precision))\n",
        "print(f'LogisticRegression -> Recall Score: ' + str(recall))\n",
        "print(f'LogisticRegression -> F Score: ' + str(f1))\n",
        "print(f'LogisticRegression -> Accuracy Score: ' + str(accuracy))"
      ],
      "execution_count": null,
      "outputs": [
        {
          "name": "stdout",
          "output_type": "stream",
          "text": [
            "LogisticRegression -> Precision Score: 0.6859813622715668\n",
            "LogisticRegression -> Recall Score: 0.5236633697081943\n",
            "LogisticRegression -> F Score: 0.5012890795869709\n",
            "LogisticRegression -> Accuracy Score: 0.8158\n"
          ]
        }
      ]
    },
    {
      "cell_type": "code",
      "metadata": {
        "colab": {
          "background_save": true,
          "base_uri": "https://localhost:8080/"
        },
        "id": "Ob3liIQVkCk5",
        "outputId": "7aac4f30-7c74-4a6a-fc46-13c8f3cd79a3"
      },
      "source": [
        "# TODO: Similarly, print precision/recall for the following classifiers:\n",
        "\n",
        "# sklearn.naive_bayes.BernoulliNB\n",
        "# sklearn.neighbors.KNeighborsClassifier\n",
        "# sklearn.svm.LinearSVC\n",
        "\n",
        "clf = BernoulliNB()\n",
        "clf.fit(X_train, y_train)\n",
        "y_hat_test = clf.predict(X_test)\n",
        "precision = precision_score(y_test, y_hat_test, average='macro')\n",
        "recall = recall_score(y_test, y_hat_test, average='macro')\n",
        "f1 = f1_score(y_test, y_hat_test, average='macro')\n",
        "accuracy = accuracy_score(y_test, y_hat_test)\n",
        "print(f'BernoulliNB -> Precision Score: ' + str(precision))\n",
        "print(f'BernoulliNB -> Recall Score: ' + str(recall))\n",
        "print(f'BernoulliNB -> F Score: ' + str(f1))\n",
        "print(f'BernoulliNB -> Accuracy Score: ' + str(accuracy))\n",
        "print(\"\")\n",
        "\n",
        "clf = LinearSVC(dual=False)\n",
        "clf.fit(X_train, y_train)\n",
        "y_hat_test = clf.predict(X_test)\n",
        "precision = precision_score(y_test, y_hat_test, average='macro')\n",
        "recall = recall_score(y_test, y_hat_test, average='macro')\n",
        "f1 = f1_score(y_test, y_hat_test, average='macro')\n",
        "accuracy = accuracy_score(y_test, y_hat_test)\n",
        "print(f'LinearSVC -> Precision Score: ' + str(precision))\n",
        "print(f'LinearSVC -> Recall Score: ' + str(recall))\n",
        "print(f'LinearSVC -> F Score: ' + str(f1))\n",
        "print(f'LinearSVC -> Accuracy Score: ' + str(accuracy))\n",
        "print(\"\")\n",
        "\n",
        "neigh = KNeighborsClassifier()\n",
        "neigh.fit(X_train, y_train)\n",
        "y_hat_test = neigh.predict(X_test)\n",
        "precision = precision_score(y_test, y_hat_test, average='macro')\n",
        "recall = recall_score(y_test, y_hat_test, average='macro')\n",
        "f1 = f1_score(y_test, y_hat_test, average='macro')\n",
        "accuracy = accuracy_score(y_test, y_hat_test)\n",
        "print(f'KNeighborsClassifier -> Precision Score: ' + str(precision))\n",
        "print(f'KNeighborsClassifier -> Recall Score: ' + str(recall))\n",
        "print(f'KNeighborsClassifier -> F Score: ' + str(f1))\n",
        "print(f'KNeighborsClassifier -> Accuracy Score: ' + str(accuracy))\n"
      ],
      "execution_count": null,
      "outputs": [
        {
          "name": "stdout",
          "output_type": "stream",
          "text": [
            "BernoulliNB -> Precision Score: 0.5665767847971238\n",
            "BernoulliNB -> Recall Score: 0.503832387555273\n",
            "BernoulliNB -> F Score: 0.46189360039775557\n",
            "BernoulliNB -> Accuracy Score: 0.8106\n",
            "\n",
            "LinearSVC -> Precision Score: 0.706036606269294\n",
            "LinearSVC -> Recall Score: 0.5053721311318179\n",
            "LinearSVC -> F Score: 0.46121582851625564\n",
            "LinearSVC -> Accuracy Score: 0.8145666666666667\n",
            "\n",
            "KNeighborsClassifier -> Precision Score: 0.615362708373873\n",
            "KNeighborsClassifier -> Recall Score: 0.5600949412114705\n",
            "KNeighborsClassifier -> F Score: 0.566777104526746\n",
            "KNeighborsClassifier -> Accuracy Score: 0.796\n"
          ]
        }
      ]
    },
    {
      "cell_type": "code",
      "metadata": {
        "colab": {
          "background_save": true
        },
        "id": "qlGcllEUcYyf"
      },
      "source": [
        ""
      ],
      "execution_count": null,
      "outputs": []
    }
  ]
}